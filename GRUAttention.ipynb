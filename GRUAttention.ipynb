{
 "cells": [
  {
   "cell_type": "code",
   "execution_count": 1,
   "id": "4dff2dc2-11c8-44a7-8d93-7425d000f8bb",
   "metadata": {},
   "outputs": [
    {
     "name": "stdout",
     "output_type": "stream",
     "text": [
      "Total Matched Samples: 7435\n"
     ]
    }
   ],
   "source": [
    "import os\n",
    "import numpy as np\n",
    "import pandas as pd\n",
    "from sklearn.model_selection import train_test_split\n",
    "from torch.utils.data import Dataset, DataLoader\n",
    "\n",
    "# Paths to extracted features\n",
    "AUDIO_FEATURES_DIR = \"C:\\\\Users\\\\Owner\\\\Documents\\\\Project\\\\Features\\\\Audio_features_temporal\"\n",
    "VIDEO_FEATURES_DIR = \"D:\\\\AuxFormer\\\\data\\\\Videos\"\n",
    "METADATA_FILE = \"C:\\\\Users\\\\Owner\\\\Documents\\\\Project\\\\processed_data\\\\processed_metadata.csv\"\n",
    "\n",
    "# Load metadata\n",
    "metadata_df = pd.read_csv(METADATA_FILE)\n",
    "selected_files = sorted(metadata_df[\"filename\"].tolist())  # Ensure order consistency\n",
    "\n",
    "# Filter valid audio files\n",
    "valid_audio_files = {f.replace(\".npy\", \"\") for f in os.listdir(AUDIO_FEATURES_DIR) if f.endswith(\".npy\")}\n",
    "\n",
    "# Video structure has changed: now each video is a folder\n",
    "valid_video_folders = {folder for folder in os.listdir(VIDEO_FEATURES_DIR)\n",
    "                       if os.path.isdir(os.path.join(VIDEO_FEATURES_DIR, folder))}\n",
    "\n",
    "# Match only those that exist in both modalities\n",
    "common_files = sorted(list(valid_audio_files & valid_video_folders))\n",
    "\n",
    "# Filter metadata to matched files only\n",
    "metadata_df = metadata_df[metadata_df[\"filename\"].isin(common_files)]\n",
    "\n",
    "# Extract emotion labels\n",
    "metadata_df[\"label\"] = metadata_df[\"filename\"].apply(lambda x: x.split(\"_\")[2])\n",
    "\n",
    "# Map to numeric labels\n",
    "EMOTION_MAP = {\"ANG\": 0, \"DIS\": 1, \"FEA\": 2, \"HAP\": 3, \"NEU\": 4, \"SAD\": 5}\n",
    "metadata_df[\"label\"] = metadata_df[\"label\"].map(EMOTION_MAP)\n",
    "\n",
    "print(f\"Total Matched Samples: {len(common_files)}\")\n"
   ]
  },
  {
   "cell_type": "code",
   "execution_count": 2,
   "id": "25a6e0ee-8b4e-4df0-b67b-045e854b5cf6",
   "metadata": {},
   "outputs": [
    {
     "name": "stdout",
     "output_type": "stream",
     "text": [
      "Train Samples: 6319, Validation Samples: 948, Test Samples: 168\n"
     ]
    }
   ],
   "source": [
    "# Train-Test-Validation Split\n",
    "train_files, test_files = train_test_split(common_files, test_size=0.15, stratify=metadata_df[\"label\"], random_state=42)\n",
    "val_files, test_files = train_test_split(test_files, test_size=0.15, stratify=metadata_df[metadata_df[\"filename\"].isin(test_files)][\"label\"], random_state=42)\n",
    "\n",
    "# Convert to sets for easy lookup\n",
    "train_set, val_set, test_set = set(train_files), set(val_files), set(test_files)\n",
    "\n",
    "print(f\"Train Samples: {len(train_set)}, Validation Samples: {len(val_set)}, Test Samples: {len(test_set)}\")\n"
   ]
  },
  {
   "cell_type": "code",
   "execution_count": 3,
   "id": "adbbdbe4-874d-416d-933f-5abaef0b5376",
   "metadata": {},
   "outputs": [],
   "source": [
    "import torch\n",
    "import numpy as np\n",
    "\n",
    "class MultiModalDataset(Dataset):\n",
    "    def __init__(self, file_list, audio_dir, video_dir, labels, max_video_length=100):\n",
    "        \"\"\"\n",
    "        Args:\n",
    "        - file_list: List of filenames (without extension)\n",
    "        - audio_dir: Path to saved audio feature .npy files\n",
    "        - video_dir: Path to saved video feature .npy files (each video folder contains multiple .npy files per timestamp)\n",
    "        - labels: Dictionary mapping filenames to emotion labels\n",
    "        - max_video_length: Maximum allowed length for video sequences\n",
    "        \"\"\"\n",
    "        self.file_list = file_list\n",
    "        self.audio_dir = audio_dir\n",
    "        self.video_dir = video_dir\n",
    "        self.labels = labels\n",
    "        self.max_video_length = max_video_length  # max length for video sequences\n",
    "\n",
    "    def __len__(self):\n",
    "        return len(self.file_list)\n",
    "\n",
    "    def load_video_features(self, video_id):\n",
    "        \"\"\"\n",
    "        Load video features (timestamped .npy files) from a video folder.\n",
    "        Each .npy file contains a (50,) feature vector.\n",
    "        Pads or truncates sequences to max_video_length.\n",
    "        \"\"\"\n",
    "        segment_dir = os.path.join(self.video_dir, video_id)\n",
    "        segment_files = sorted([\n",
    "            f for f in os.listdir(segment_dir) if f.endswith(\".npy\") and f.startswith(\"exp_\")\n",
    "        ])\n",
    "\n",
    "        segment_features = []\n",
    "        for file in segment_files:\n",
    "            path = os.path.join(segment_dir, file)\n",
    "            arr = np.load(path)  # shape: (50,)\n",
    "            segment_features.append(arr)\n",
    "\n",
    "        # Pad or truncate the sequence to max_video_length\n",
    "        num_segments = len(segment_features)\n",
    "        if num_segments < self.max_video_length:\n",
    "            padding = np.zeros((self.max_video_length - num_segments, 50))  # pad with zero vectors\n",
    "            segment_features = np.vstack([segment_features, padding])\n",
    "        else:\n",
    "            segment_features = segment_features[:self.max_video_length]  # truncate to max_video_length\n",
    "\n",
    "        return torch.tensor(segment_features, dtype=torch.float32)  # shape: (max_video_length, 50)\n",
    "\n",
    "    def __getitem__(self, idx):\n",
    "        file_id = self.file_list[idx]\n",
    "\n",
    "        # ** Load Audio Features (Shape: [feature_dim, T]) **\n",
    "        audio_features = np.load(os.path.join(self.audio_dir, file_id + \".npy\"))\n",
    "        audio_features = torch.tensor(audio_features, dtype=torch.float32)  # (161, 94)\n",
    "\n",
    "        # ** Load Video Features (Sequence of 50-dimensional feature vectors) **\n",
    "        video_features = self.load_video_features(file_id)  # Shape: (max_video_length, 50)\n",
    "         #print(f\"Audio Features Shape: {audio_features.shape}\")\n",
    "        #print(f\"Video Features Shape: {video_features.shape}\")\n",
    "\n",
    "        # ** Load Label **\n",
    "        label = torch.tensor(self.labels[file_id], dtype=torch.long)\n",
    "\n",
    "        return audio_features, video_features, label\n"
   ]
  },
  {
   "cell_type": "code",
   "execution_count": 4,
   "id": "1c7a87a2-102b-4917-a9e1-fc5cb65c8236",
   "metadata": {},
   "outputs": [
    {
     "name": "stdout",
     "output_type": "stream",
     "text": [
      " Data Loaders Created - Train: 632, Val: 95, Test: 17\n"
     ]
    }
   ],
   "source": [
    "# Create label mapping\n",
    "file_to_label = dict(zip(metadata_df[\"filename\"], metadata_df[\"label\"]))\n",
    "\n",
    "# Create Dataset instances (using updated MultiModalDataset)\n",
    "train_dataset = MultiModalDataset(\n",
    "    list(train_set), AUDIO_FEATURES_DIR, VIDEO_FEATURES_DIR, file_to_label\n",
    ")\n",
    "val_dataset = MultiModalDataset(\n",
    "    list(val_set), AUDIO_FEATURES_DIR, VIDEO_FEATURES_DIR, file_to_label\n",
    ")\n",
    "test_dataset = MultiModalDataset(\n",
    "    list(test_set), AUDIO_FEATURES_DIR, VIDEO_FEATURES_DIR, file_to_label\n",
    ")\n",
    "\n",
    "# Define DataLoader parameters\n",
    "BATCH_SIZE = 10\n",
    "\n",
    "train_loader = DataLoader(train_dataset, batch_size=BATCH_SIZE, shuffle=True)\n",
    "val_loader = DataLoader(val_dataset, batch_size=BATCH_SIZE, shuffle=False)\n",
    "test_loader = DataLoader(test_dataset, batch_size=BATCH_SIZE, shuffle=False)\n",
    "\n",
    "print(f\" Data Loaders Created - Train: {len(train_loader)}, Val: {len(val_loader)}, Test: {len(test_loader)}\")\n"
   ]
  },
  {
   "cell_type": "code",
   "execution_count": 5,
   "id": "7e1d2e33-8291-4c22-8d96-aad939f41b00",
   "metadata": {},
   "outputs": [
    {
     "name": "stdout",
     "output_type": "stream",
     "text": [
      "Audio Batch Shape: torch.Size([10, 161, 94])\n",
      "Video Batch Shape: torch.Size([10, 100, 50])\n",
      "Label Batch Shape: torch.Size([10])\n"
     ]
    }
   ],
   "source": [
    "train_loader = DataLoader(train_dataset, batch_size=10, shuffle=True)\n",
    "\n",
    "# Fetch a batch\n",
    "batch = next(iter(train_loader))\n",
    "audio_batch, video_batch, label_batch = batch\n",
    "\n",
    "print(f\"Audio Batch Shape: {audio_batch.shape}\")  # Expected: (batch, 161, 94)\n",
    "print(f\"Video Batch Shape: {video_batch.shape}\")  # Expected: (batch, 32, 768)\n",
    "\n",
    "print(f\"Label Batch Shape: {label_batch.shape}\")  # Expected: (batch,)\n"
   ]
  },
  {
   "cell_type": "markdown",
   "id": "95461e03-2010-49ce-a190-da0ebe6526a0",
   "metadata": {},
   "source": [
    "# GRU MODEL"
   ]
  },
  {
   "cell_type": "code",
   "execution_count": 6,
   "id": "d82b0208-2bc1-42eb-bf3f-ff3a9352f1f5",
   "metadata": {},
   "outputs": [],
   "source": [
    "import torch\n",
    "import torch.nn as nn\n",
    "\n",
    "class AudioGRUModel(nn.Module):\n",
    "    def __init__(self, input_dim, hidden_dim, num_layers, embedding_dim):\n",
    "        super(AudioGRUModel, self).__init__()\n",
    "        self.gru = nn.GRU(input_dim, hidden_dim, num_layers, batch_first=True)\n",
    "        self.fc = nn.Sequential(\n",
    "            nn.Linear(hidden_dim, 256),\n",
    "            nn.ReLU(),\n",
    "            nn.Dropout(p=0.21),\n",
    "            nn.Linear(256, embedding_dim),\n",
    "            nn.BatchNorm1d(embedding_dim),\n",
    "            nn.ReLU(),\n",
    "            nn.Dropout(p=0.2)\n",
    "        )\n",
    "\n",
    "    def forward(self, x):\n",
    "        x = x.permute(0, 2, 1)  # Ensure proper shape: (batch, time_steps, feature_dim)\n",
    "        _, h_n = self.gru(x)\n",
    "        out = self.fc(h_n[-1])  # Use last hidden state\n",
    "        return out  # (batch, embedding_dim)\n",
    "\n"
   ]
  },
  {
   "cell_type": "code",
   "execution_count": 7,
   "id": "0e45219a-226d-46fd-bcda-e1cdc3946c8e",
   "metadata": {},
   "outputs": [],
   "source": [
    "import torch\n",
    "import torch.nn as nn\n",
    "\n",
    "class VideoCNNGRUModel(nn.Module):\n",
    "    def __init__(self, vit_feature_dim, gru_hidden_dim, num_layers, embedding_dim):\n",
    "        super(VideoCNNGRUModel, self).__init__()\n",
    "        self.fc_vit = nn.Sequential(\n",
    "            nn.Linear(vit_feature_dim, 256),\n",
    "            nn.ReLU(),\n",
    "            nn.Dropout(p=0.2)\n",
    "        )\n",
    "        self.gru = nn.GRU(256, gru_hidden_dim, num_layers, batch_first=True)\n",
    "        self.layer_norm_gru = nn.LayerNorm(gru_hidden_dim)\n",
    "        self.fc = nn.Linear(gru_hidden_dim, embedding_dim)\n",
    "\n",
    "    def forward(self, vit_features):\n",
    "        # Process ViT features through fully connected layers\n",
    "        batch_size, seq_len, feature_dim = vit_features.shape\n",
    "        vit_features = vit_features.view(batch_size * seq_len, feature_dim)\n",
    "        vit_features = self.fc_vit(vit_features)\n",
    "        vit_features = vit_features.view(batch_size, seq_len, -1)\n",
    "\n",
    "        # GRU to capture temporal dependencies\n",
    "        _, h_n = self.gru(vit_features)\n",
    "        out = self.fc(h_n[-1])  # Use last hidden state\n",
    "\n",
    "        return out  # (batch, embedding_dim)\n"
   ]
  },
  {
   "cell_type": "code",
   "execution_count": 8,
   "id": "81ba3923-2717-46a6-8665-cee24f261d52",
   "metadata": {},
   "outputs": [],
   "source": [
    "import torch\n",
    "import torch.nn as nn\n",
    "\n",
    "class CrossAttentionBidirectional(nn.Module):\n",
    "    def __init__(self, embed_dim, dropout_p=0.1):\n",
    "        super(CrossAttentionBidirectional, self).__init__()\n",
    "        self.attn_audio_to_video = nn.MultiheadAttention(embed_dim, num_heads=4, batch_first=True)\n",
    "        self.attn_video_to_audio = nn.MultiheadAttention(embed_dim, num_heads=4, batch_first=True)\n",
    "        self.dropout = nn.Dropout(dropout_p)\n",
    "        self.norm_audio = nn.LayerNorm(embed_dim)\n",
    "        self.norm_video = nn.LayerNorm(embed_dim)\n",
    "\n",
    "    def forward(self, audio_embed, video_embed):\n",
    "        # Add sequence dimension (seq_len=1)\n",
    "        audio_embed = audio_embed.unsqueeze(1)  # (batch, 1, embed_dim)\n",
    "        video_embed = video_embed.unsqueeze(1)  # (batch, 1, embed_dim)\n",
    "\n",
    "        # Audio attends to Video\n",
    "        audio_attn, _ = self.attn_audio_to_video(audio_embed, video_embed, video_embed)\n",
    "        audio_attn = self.dropout(audio_attn)  # Dropout after attention\n",
    "        audio_out = self.norm_audio(audio_embed + audio_attn)  # Add & Norm\n",
    "\n",
    "        # Video attends to Audio\n",
    "        video_attn, _ = self.attn_video_to_audio(video_embed, audio_embed, audio_embed)\n",
    "        video_attn = self.dropout(video_attn)  # Dropout after attention\n",
    "        video_out = self.norm_video(video_embed + video_attn)  # Add & Norm\n",
    "\n",
    "        # Remove sequence dimension\n",
    "        return audio_out.squeeze(1), video_out.squeeze(1)\n"
   ]
  },
  {
   "cell_type": "code",
   "execution_count": 9,
   "id": "f46c383f-52ec-40a6-aa04-3110df26f5c1",
   "metadata": {},
   "outputs": [],
   "source": [
    "import torch\n",
    "import torch.nn as nn\n",
    "\n",
    "class FusionModel(nn.Module):\n",
    "    def __init__(self, audio_model, video_model, embedding_dim, num_classes):\n",
    "        super(FusionModel, self).__init__()\n",
    "        self.audio_model = audio_model\n",
    "        self.video_model = video_model\n",
    "\n",
    "        # 3 layers of bidirectional cross-attention\n",
    "        self.cross_attn_layers = nn.ModuleList([\n",
    "            CrossAttentionBidirectional(embedding_dim) for _ in range(3)\n",
    "        ])\n",
    "\n",
    "        self.layer_norm_fusion = nn.LayerNorm(embedding_dim * 4)\n",
    "        self.fc_fusion = nn.Linear(embedding_dim * 4, num_classes)\n",
    "\n",
    "    def forward(self, audio_input, video_input):\n",
    "        # Get initial embeddings from sub-models\n",
    "        audio_embed = self.audio_model(audio_input)  # (batch, embed_dim)\n",
    "        video_embed = self.video_model(video_input)  # (batch, embed_dim)\n",
    "        audio_embed_raw = self.audio_model(audio_input)  # (batch, embed_dim)\n",
    "        video_embed_raw = self.video_model(video_input)  # (batch, embed_dim)\n",
    "\n",
    "        # Apply stacked cross-attention layers\n",
    "        for layer in self.cross_attn_layers:\n",
    "            audio_embed, video_embed = layer(audio_embed, video_embed)\n",
    "\n",
    "        # Concatenate and fuse for classification\n",
    "        fused = torch.cat((audio_embed_raw,audio_embed, video_embed,video_embed_raw), dim=1)  # (batch, embed_dim * 2)\n",
    "        fused = self.layer_norm_fusion(fused)\n",
    "        logits = self.fc_fusion(fused)  # Classification output\n",
    "\n",
    "        # Return both classification and embeddings for contrastive learning\n",
    "        return logits, audio_embed, video_embed\n"
   ]
  },
  {
   "cell_type": "code",
   "execution_count": 10,
   "id": "4f024a03-fb31-4364-b013-1f9709d9e4b9",
   "metadata": {},
   "outputs": [
    {
     "name": "stdout",
     "output_type": "stream",
     "text": [
      "Training on: GPU\n",
      "Train Batches: 632, Val Batches: 95, Test Batches: 17\n"
     ]
    },
    {
     "name": "stderr",
     "output_type": "stream",
     "text": [
      "Epoch 1:   0%|▎                                                                      | 3/632 [00:25<1:28:58,  8.49s/it]C:\\Users\\Owner\\AppData\\Local\\Temp\\ipykernel_20184\\1074825672.py:48: UserWarning: Creating a tensor from a list of numpy.ndarrays is extremely slow. Please consider converting the list to a single numpy.ndarray with numpy.array() before converting to a tensor. (Triggered internally at  C:\\actions-runner\\_work\\pytorch\\pytorch\\builder\\windows\\pytorch\\torch\\csrc\\utils\\tensor_new.cpp:204.)\n",
      "  return torch.tensor(segment_features, dtype=torch.float32)  # shape: (max_video_length, 50)\n",
      "                                                                                                                       "
     ]
    },
    {
     "name": "stdout",
     "output_type": "stream",
     "text": [
      "✅ Model Saved (New Best)\n",
      " Epoch 1 Summary:\n",
      "   🔹 Train Loss: 1.2550 | Train Acc: 52.71%\n",
      "   🔹 Val Loss: 0.9553 | Val Acc: 61.81%\n",
      "   🔹 Current LR: 0.000500\n"
     ]
    },
    {
     "name": "stderr",
     "output_type": "stream",
     "text": [
      "                                                                                                                       "
     ]
    },
    {
     "name": "stdout",
     "output_type": "stream",
     "text": [
      "✅ Model Saved (New Best)\n",
      " Epoch 2 Summary:\n",
      "   🔹 Train Loss: 0.8559 | Train Acc: 68.51%\n",
      "   🔹 Val Loss: 0.7965 | Val Acc: 71.41%\n",
      "   🔹 Current LR: 0.000500\n"
     ]
    },
    {
     "name": "stderr",
     "output_type": "stream",
     "text": [
      "                                                                                                                       "
     ]
    },
    {
     "name": "stdout",
     "output_type": "stream",
     "text": [
      "✅ Model Saved (New Best)\n",
      " Epoch 3 Summary:\n",
      "   🔹 Train Loss: 0.7400 | Train Acc: 73.41%\n",
      "   🔹 Val Loss: 0.6775 | Val Acc: 76.16%\n",
      "   🔹 Current LR: 0.000500\n"
     ]
    },
    {
     "name": "stderr",
     "output_type": "stream",
     "text": [
      "                                                                                                                       "
     ]
    },
    {
     "name": "stdout",
     "output_type": "stream",
     "text": [
      " Epoch 4 Summary:\n",
      "   🔹 Train Loss: 0.6520 | Train Acc: 75.99%\n",
      "   🔹 Val Loss: 0.7451 | Val Acc: 73.52%\n",
      "   🔹 Current LR: 0.000500\n"
     ]
    },
    {
     "name": "stderr",
     "output_type": "stream",
     "text": [
      "                                                                                                                       "
     ]
    },
    {
     "name": "stdout",
     "output_type": "stream",
     "text": [
      " Epoch 5 Summary:\n",
      "   🔹 Train Loss: 0.6044 | Train Acc: 78.37%\n",
      "   🔹 Val Loss: 0.6716 | Val Acc: 75.53%\n",
      "   🔹 Current LR: 0.000500\n"
     ]
    },
    {
     "name": "stderr",
     "output_type": "stream",
     "text": [
      "                                                                                                                       "
     ]
    },
    {
     "name": "stdout",
     "output_type": "stream",
     "text": [
      "✅ Model Saved (New Best)\n",
      " Epoch 6 Summary:\n",
      "   🔹 Train Loss: 0.5677 | Train Acc: 78.92%\n",
      "   🔹 Val Loss: 0.5976 | Val Acc: 77.74%\n",
      "   🔹 Current LR: 0.000500\n"
     ]
    },
    {
     "name": "stderr",
     "output_type": "stream",
     "text": [
      "                                                                                                                       "
     ]
    },
    {
     "name": "stdout",
     "output_type": "stream",
     "text": [
      " Epoch 7 Summary:\n",
      "   🔹 Train Loss: 0.5018 | Train Acc: 81.61%\n",
      "   🔹 Val Loss: 0.6599 | Val Acc: 77.32%\n",
      "   🔹 Current LR: 0.000500\n"
     ]
    },
    {
     "name": "stderr",
     "output_type": "stream",
     "text": [
      "                                                                                                                       "
     ]
    },
    {
     "name": "stdout",
     "output_type": "stream",
     "text": [
      "✅ Model Saved (New Best)\n",
      " Epoch 8 Summary:\n",
      "   🔹 Train Loss: 0.4830 | Train Acc: 82.26%\n",
      "   🔹 Val Loss: 0.6537 | Val Acc: 78.27%\n",
      "   🔹 Current LR: 0.000500\n"
     ]
    },
    {
     "name": "stderr",
     "output_type": "stream",
     "text": [
      "                                                                                                                       "
     ]
    },
    {
     "name": "stdout",
     "output_type": "stream",
     "text": [
      "Epoch 00009: reducing learning rate of group 0 to 2.5000e-04.\n",
      " Epoch 9 Summary:\n",
      "   🔹 Train Loss: 0.4234 | Train Acc: 84.25%\n",
      "   🔹 Val Loss: 0.6899 | Val Acc: 77.11%\n",
      "   🔹 Current LR: 0.000250\n"
     ]
    },
    {
     "name": "stderr",
     "output_type": "stream",
     "text": [
      "                                                                                                                       "
     ]
    },
    {
     "name": "stdout",
     "output_type": "stream",
     "text": [
      "✅ Model Saved (New Best)\n",
      " Epoch 10 Summary:\n",
      "   🔹 Train Loss: 0.2933 | Train Acc: 89.75%\n",
      "   🔹 Val Loss: 0.6297 | Val Acc: 81.43%\n",
      "   🔹 Current LR: 0.000250\n"
     ]
    },
    {
     "name": "stderr",
     "output_type": "stream",
     "text": [
      "                                                                                                                       "
     ]
    },
    {
     "name": "stdout",
     "output_type": "stream",
     "text": [
      " Epoch 11 Summary:\n",
      "   🔹 Train Loss: 0.2254 | Train Acc: 91.98%\n",
      "   🔹 Val Loss: 0.7493 | Val Acc: 78.90%\n",
      "   🔹 Current LR: 0.000250\n"
     ]
    },
    {
     "name": "stderr",
     "output_type": "stream",
     "text": [
      "                                                                                                                       "
     ]
    },
    {
     "name": "stdout",
     "output_type": "stream",
     "text": [
      "Epoch 00012: reducing learning rate of group 0 to 1.2500e-04.\n",
      " Epoch 12 Summary:\n",
      "   🔹 Train Loss: 0.1749 | Train Acc: 94.10%\n",
      "   🔹 Val Loss: 0.7278 | Val Acc: 80.80%\n",
      "   🔹 Current LR: 0.000125\n"
     ]
    },
    {
     "name": "stderr",
     "output_type": "stream",
     "text": [
      "                                                                                                                       "
     ]
    },
    {
     "name": "stdout",
     "output_type": "stream",
     "text": [
      " Epoch 13 Summary:\n",
      "   🔹 Train Loss: 0.1081 | Train Acc: 96.33%\n",
      "   🔹 Val Loss: 0.7587 | Val Acc: 80.80%\n",
      "   🔹 Current LR: 0.000125\n"
     ]
    },
    {
     "name": "stderr",
     "output_type": "stream",
     "text": [
      "                                                                                                                       "
     ]
    },
    {
     "name": "stdout",
     "output_type": "stream",
     "text": [
      " Epoch 14 Summary:\n",
      "   🔹 Train Loss: 0.0722 | Train Acc: 97.71%\n",
      "   🔹 Val Loss: 0.7934 | Val Acc: 79.54%\n",
      "   🔹 Current LR: 0.000125\n"
     ]
    },
    {
     "name": "stderr",
     "output_type": "stream",
     "text": [
      "                                                                                                                       "
     ]
    },
    {
     "name": "stdout",
     "output_type": "stream",
     "text": [
      "Epoch 00015: reducing learning rate of group 0 to 6.2500e-05.\n",
      " Epoch 15 Summary:\n",
      "   🔹 Train Loss: 0.0598 | Train Acc: 98.26%\n",
      "   🔹 Val Loss: 0.7833 | Val Acc: 80.27%\n",
      "   🔹 Current LR: 0.000063\n"
     ]
    },
    {
     "name": "stderr",
     "output_type": "stream",
     "text": [
      "                                                                                                                       "
     ]
    },
    {
     "ename": "KeyboardInterrupt",
     "evalue": "",
     "output_type": "error",
     "traceback": [
      "\u001b[1;31m---------------------------------------------------------------------------\u001b[0m",
      "\u001b[1;31mKeyboardInterrupt\u001b[0m                         Traceback (most recent call last)",
      "Cell \u001b[1;32mIn[10], line 40\u001b[0m\n\u001b[0;32m     37\u001b[0m fusion_model\u001b[38;5;241m.\u001b[39mtrain()\n\u001b[0;32m     38\u001b[0m running_loss, correct, total \u001b[38;5;241m=\u001b[39m \u001b[38;5;241m0.0\u001b[39m, \u001b[38;5;241m0\u001b[39m, \u001b[38;5;241m0\u001b[39m\n\u001b[1;32m---> 40\u001b[0m \u001b[38;5;28;01mfor\u001b[39;00m audio_inputs, video_inputs, labels \u001b[38;5;129;01min\u001b[39;00m tqdm(train_loader, desc\u001b[38;5;241m=\u001b[39m\u001b[38;5;124mf\u001b[39m\u001b[38;5;124m\"\u001b[39m\u001b[38;5;124mEpoch \u001b[39m\u001b[38;5;132;01m{\u001b[39;00mepoch\u001b[38;5;241m+\u001b[39m\u001b[38;5;241m1\u001b[39m\u001b[38;5;132;01m}\u001b[39;00m\u001b[38;5;124m\"\u001b[39m, leave\u001b[38;5;241m=\u001b[39m\u001b[38;5;28;01mFalse\u001b[39;00m):\n\u001b[0;32m     41\u001b[0m     audio_inputs, video_inputs, labels \u001b[38;5;241m=\u001b[39m audio_inputs\u001b[38;5;241m.\u001b[39mto(device), video_inputs\u001b[38;5;241m.\u001b[39mto(device), labels\u001b[38;5;241m.\u001b[39mto(device)\n\u001b[0;32m     43\u001b[0m     optimizer\u001b[38;5;241m.\u001b[39mzero_grad()\n",
      "File \u001b[1;32m~\\AppData\\Local\\Programs\\Python\\Python39\\lib\\site-packages\\tqdm\\std.py:1181\u001b[0m, in \u001b[0;36mtqdm.__iter__\u001b[1;34m(self)\u001b[0m\n\u001b[0;32m   1178\u001b[0m time \u001b[38;5;241m=\u001b[39m \u001b[38;5;28mself\u001b[39m\u001b[38;5;241m.\u001b[39m_time\n\u001b[0;32m   1180\u001b[0m \u001b[38;5;28;01mtry\u001b[39;00m:\n\u001b[1;32m-> 1181\u001b[0m     \u001b[38;5;28;01mfor\u001b[39;00m obj \u001b[38;5;129;01min\u001b[39;00m iterable:\n\u001b[0;32m   1182\u001b[0m         \u001b[38;5;28;01myield\u001b[39;00m obj\n\u001b[0;32m   1183\u001b[0m         \u001b[38;5;66;03m# Update and possibly print the progressbar.\u001b[39;00m\n\u001b[0;32m   1184\u001b[0m         \u001b[38;5;66;03m# Note: does not call self.update(1) for speed optimisation.\u001b[39;00m\n",
      "File \u001b[1;32m~\\AppData\\Local\\Programs\\Python\\Python39\\lib\\site-packages\\torch\\utils\\data\\dataloader.py:652\u001b[0m, in \u001b[0;36m_BaseDataLoaderIter.__next__\u001b[1;34m(self)\u001b[0m\n\u001b[0;32m    649\u001b[0m \u001b[38;5;28;01mif\u001b[39;00m \u001b[38;5;28mself\u001b[39m\u001b[38;5;241m.\u001b[39m_sampler_iter \u001b[38;5;129;01mis\u001b[39;00m \u001b[38;5;28;01mNone\u001b[39;00m:\n\u001b[0;32m    650\u001b[0m     \u001b[38;5;66;03m# TODO(https://github.com/pytorch/pytorch/issues/76750)\u001b[39;00m\n\u001b[0;32m    651\u001b[0m     \u001b[38;5;28mself\u001b[39m\u001b[38;5;241m.\u001b[39m_reset()  \u001b[38;5;66;03m# type: ignore[call-arg]\u001b[39;00m\n\u001b[1;32m--> 652\u001b[0m data \u001b[38;5;241m=\u001b[39m \u001b[38;5;28;43mself\u001b[39;49m\u001b[38;5;241;43m.\u001b[39;49m\u001b[43m_next_data\u001b[49m\u001b[43m(\u001b[49m\u001b[43m)\u001b[49m\n\u001b[0;32m    653\u001b[0m \u001b[38;5;28mself\u001b[39m\u001b[38;5;241m.\u001b[39m_num_yielded \u001b[38;5;241m+\u001b[39m\u001b[38;5;241m=\u001b[39m \u001b[38;5;241m1\u001b[39m\n\u001b[0;32m    654\u001b[0m \u001b[38;5;28;01mif\u001b[39;00m \u001b[38;5;28mself\u001b[39m\u001b[38;5;241m.\u001b[39m_dataset_kind \u001b[38;5;241m==\u001b[39m _DatasetKind\u001b[38;5;241m.\u001b[39mIterable \u001b[38;5;129;01mand\u001b[39;00m \\\n\u001b[0;32m    655\u001b[0m         \u001b[38;5;28mself\u001b[39m\u001b[38;5;241m.\u001b[39m_IterableDataset_len_called \u001b[38;5;129;01mis\u001b[39;00m \u001b[38;5;129;01mnot\u001b[39;00m \u001b[38;5;28;01mNone\u001b[39;00m \u001b[38;5;129;01mand\u001b[39;00m \\\n\u001b[0;32m    656\u001b[0m         \u001b[38;5;28mself\u001b[39m\u001b[38;5;241m.\u001b[39m_num_yielded \u001b[38;5;241m>\u001b[39m \u001b[38;5;28mself\u001b[39m\u001b[38;5;241m.\u001b[39m_IterableDataset_len_called:\n",
      "File \u001b[1;32m~\\AppData\\Local\\Programs\\Python\\Python39\\lib\\site-packages\\torch\\utils\\data\\dataloader.py:692\u001b[0m, in \u001b[0;36m_SingleProcessDataLoaderIter._next_data\u001b[1;34m(self)\u001b[0m\n\u001b[0;32m    690\u001b[0m \u001b[38;5;28;01mdef\u001b[39;00m\u001b[38;5;250m \u001b[39m\u001b[38;5;21m_next_data\u001b[39m(\u001b[38;5;28mself\u001b[39m):\n\u001b[0;32m    691\u001b[0m     index \u001b[38;5;241m=\u001b[39m \u001b[38;5;28mself\u001b[39m\u001b[38;5;241m.\u001b[39m_next_index()  \u001b[38;5;66;03m# may raise StopIteration\u001b[39;00m\n\u001b[1;32m--> 692\u001b[0m     data \u001b[38;5;241m=\u001b[39m \u001b[38;5;28;43mself\u001b[39;49m\u001b[38;5;241;43m.\u001b[39;49m\u001b[43m_dataset_fetcher\u001b[49m\u001b[38;5;241;43m.\u001b[39;49m\u001b[43mfetch\u001b[49m\u001b[43m(\u001b[49m\u001b[43mindex\u001b[49m\u001b[43m)\u001b[49m  \u001b[38;5;66;03m# may raise StopIteration\u001b[39;00m\n\u001b[0;32m    693\u001b[0m     \u001b[38;5;28;01mif\u001b[39;00m \u001b[38;5;28mself\u001b[39m\u001b[38;5;241m.\u001b[39m_pin_memory:\n\u001b[0;32m    694\u001b[0m         data \u001b[38;5;241m=\u001b[39m _utils\u001b[38;5;241m.\u001b[39mpin_memory\u001b[38;5;241m.\u001b[39mpin_memory(data, \u001b[38;5;28mself\u001b[39m\u001b[38;5;241m.\u001b[39m_pin_memory_device)\n",
      "File \u001b[1;32m~\\AppData\\Local\\Programs\\Python\\Python39\\lib\\site-packages\\torch\\utils\\data\\_utils\\fetch.py:49\u001b[0m, in \u001b[0;36m_MapDatasetFetcher.fetch\u001b[1;34m(self, possibly_batched_index)\u001b[0m\n\u001b[0;32m     47\u001b[0m \u001b[38;5;28;01mdef\u001b[39;00m\u001b[38;5;250m \u001b[39m\u001b[38;5;21mfetch\u001b[39m(\u001b[38;5;28mself\u001b[39m, possibly_batched_index):\n\u001b[0;32m     48\u001b[0m     \u001b[38;5;28;01mif\u001b[39;00m \u001b[38;5;28mself\u001b[39m\u001b[38;5;241m.\u001b[39mauto_collation:\n\u001b[1;32m---> 49\u001b[0m         data \u001b[38;5;241m=\u001b[39m [\u001b[38;5;28mself\u001b[39m\u001b[38;5;241m.\u001b[39mdataset[idx] \u001b[38;5;28;01mfor\u001b[39;00m idx \u001b[38;5;129;01min\u001b[39;00m possibly_batched_index]\n\u001b[0;32m     50\u001b[0m     \u001b[38;5;28;01melse\u001b[39;00m:\n\u001b[0;32m     51\u001b[0m         data \u001b[38;5;241m=\u001b[39m \u001b[38;5;28mself\u001b[39m\u001b[38;5;241m.\u001b[39mdataset[possibly_batched_index]\n",
      "File \u001b[1;32m~\\AppData\\Local\\Programs\\Python\\Python39\\lib\\site-packages\\torch\\utils\\data\\_utils\\fetch.py:49\u001b[0m, in \u001b[0;36m<listcomp>\u001b[1;34m(.0)\u001b[0m\n\u001b[0;32m     47\u001b[0m \u001b[38;5;28;01mdef\u001b[39;00m\u001b[38;5;250m \u001b[39m\u001b[38;5;21mfetch\u001b[39m(\u001b[38;5;28mself\u001b[39m, possibly_batched_index):\n\u001b[0;32m     48\u001b[0m     \u001b[38;5;28;01mif\u001b[39;00m \u001b[38;5;28mself\u001b[39m\u001b[38;5;241m.\u001b[39mauto_collation:\n\u001b[1;32m---> 49\u001b[0m         data \u001b[38;5;241m=\u001b[39m [\u001b[38;5;28;43mself\u001b[39;49m\u001b[38;5;241;43m.\u001b[39;49m\u001b[43mdataset\u001b[49m\u001b[43m[\u001b[49m\u001b[43midx\u001b[49m\u001b[43m]\u001b[49m \u001b[38;5;28;01mfor\u001b[39;00m idx \u001b[38;5;129;01min\u001b[39;00m possibly_batched_index]\n\u001b[0;32m     50\u001b[0m     \u001b[38;5;28;01melse\u001b[39;00m:\n\u001b[0;32m     51\u001b[0m         data \u001b[38;5;241m=\u001b[39m \u001b[38;5;28mself\u001b[39m\u001b[38;5;241m.\u001b[39mdataset[possibly_batched_index]\n",
      "Cell \u001b[1;32mIn[3], line 58\u001b[0m, in \u001b[0;36mMultiModalDataset.__getitem__\u001b[1;34m(self, idx)\u001b[0m\n\u001b[0;32m     55\u001b[0m audio_features \u001b[38;5;241m=\u001b[39m torch\u001b[38;5;241m.\u001b[39mtensor(audio_features, dtype\u001b[38;5;241m=\u001b[39mtorch\u001b[38;5;241m.\u001b[39mfloat32)  \u001b[38;5;66;03m# (161, 94)\u001b[39;00m\n\u001b[0;32m     57\u001b[0m \u001b[38;5;66;03m# ** Load Video Features (Sequence of 50-dimensional feature vectors) **\u001b[39;00m\n\u001b[1;32m---> 58\u001b[0m video_features \u001b[38;5;241m=\u001b[39m \u001b[38;5;28;43mself\u001b[39;49m\u001b[38;5;241;43m.\u001b[39;49m\u001b[43mload_video_features\u001b[49m\u001b[43m(\u001b[49m\u001b[43mfile_id\u001b[49m\u001b[43m)\u001b[49m  \u001b[38;5;66;03m# Shape: (max_video_length, 50)\u001b[39;00m\n\u001b[0;32m     59\u001b[0m  \u001b[38;5;66;03m#print(f\"Audio Features Shape: {audio_features.shape}\")\u001b[39;00m\n\u001b[0;32m     60\u001b[0m \u001b[38;5;66;03m#print(f\"Video Features Shape: {video_features.shape}\")\u001b[39;00m\n\u001b[0;32m     61\u001b[0m \n\u001b[0;32m     62\u001b[0m \u001b[38;5;66;03m# ** Load Label **\u001b[39;00m\n\u001b[0;32m     63\u001b[0m label \u001b[38;5;241m=\u001b[39m torch\u001b[38;5;241m.\u001b[39mtensor(\u001b[38;5;28mself\u001b[39m\u001b[38;5;241m.\u001b[39mlabels[file_id], dtype\u001b[38;5;241m=\u001b[39mtorch\u001b[38;5;241m.\u001b[39mlong)\n",
      "Cell \u001b[1;32mIn[3], line 37\u001b[0m, in \u001b[0;36mMultiModalDataset.load_video_features\u001b[1;34m(self, video_id)\u001b[0m\n\u001b[0;32m     35\u001b[0m \u001b[38;5;28;01mfor\u001b[39;00m file \u001b[38;5;129;01min\u001b[39;00m segment_files:\n\u001b[0;32m     36\u001b[0m     path \u001b[38;5;241m=\u001b[39m os\u001b[38;5;241m.\u001b[39mpath\u001b[38;5;241m.\u001b[39mjoin(segment_dir, file)\n\u001b[1;32m---> 37\u001b[0m     arr \u001b[38;5;241m=\u001b[39m \u001b[43mnp\u001b[49m\u001b[38;5;241;43m.\u001b[39;49m\u001b[43mload\u001b[49m\u001b[43m(\u001b[49m\u001b[43mpath\u001b[49m\u001b[43m)\u001b[49m  \u001b[38;5;66;03m# shape: (50,)\u001b[39;00m\n\u001b[0;32m     38\u001b[0m     segment_features\u001b[38;5;241m.\u001b[39mappend(arr)\n\u001b[0;32m     40\u001b[0m \u001b[38;5;66;03m# Pad or truncate the sequence to max_video_length\u001b[39;00m\n",
      "File \u001b[1;32m~\\AppData\\Local\\Programs\\Python\\Python39\\lib\\site-packages\\numpy\\lib\\npyio.py:427\u001b[0m, in \u001b[0;36mload\u001b[1;34m(file, mmap_mode, allow_pickle, fix_imports, encoding, max_header_size)\u001b[0m\n\u001b[0;32m    425\u001b[0m     own_fid \u001b[38;5;241m=\u001b[39m \u001b[38;5;28;01mFalse\u001b[39;00m\n\u001b[0;32m    426\u001b[0m \u001b[38;5;28;01melse\u001b[39;00m:\n\u001b[1;32m--> 427\u001b[0m     fid \u001b[38;5;241m=\u001b[39m stack\u001b[38;5;241m.\u001b[39menter_context(\u001b[38;5;28;43mopen\u001b[39;49m\u001b[43m(\u001b[49m\u001b[43mos_fspath\u001b[49m\u001b[43m(\u001b[49m\u001b[43mfile\u001b[49m\u001b[43m)\u001b[49m\u001b[43m,\u001b[49m\u001b[43m \u001b[49m\u001b[38;5;124;43m\"\u001b[39;49m\u001b[38;5;124;43mrb\u001b[39;49m\u001b[38;5;124;43m\"\u001b[39;49m\u001b[43m)\u001b[49m)\n\u001b[0;32m    428\u001b[0m     own_fid \u001b[38;5;241m=\u001b[39m \u001b[38;5;28;01mTrue\u001b[39;00m\n\u001b[0;32m    430\u001b[0m \u001b[38;5;66;03m# Code to distinguish from NumPy binary files and pickles.\u001b[39;00m\n",
      "\u001b[1;31mKeyboardInterrupt\u001b[0m: "
     ]
    }
   ],
   "source": [
    "import torch\n",
    "import torch.nn as nn\n",
    "import torch.optim as optim\n",
    "from torch.utils.data import DataLoader\n",
    "from torch.optim.lr_scheduler import ReduceLROnPlateau\n",
    "from tqdm import tqdm\n",
    "\n",
    "# Initialize models\n",
    "audio_model = AudioGRUModel(input_dim=161, hidden_dim=256, num_layers=2, embedding_dim=128)\n",
    "video_model = VideoCNNGRUModel(vit_feature_dim=50, gru_hidden_dim=256, num_layers=2, embedding_dim=128)\n",
    "fusion_model = FusionModel(audio_model, video_model, embedding_dim=128, num_classes=6)\n",
    "\n",
    "# Device\n",
    "device = torch.device('cuda' if torch.cuda.is_available() else 'cpu')\n",
    "fusion_model.to(device)\n",
    "\n",
    "# Loss, optimizer, scheduler\n",
    "classification_loss_fn = nn.CrossEntropyLoss()\n",
    "contrastive_loss_fn = nn.CosineEmbeddingLoss(margin=0.3)  # can be changed as per preferred margin\n",
    "\n",
    "optimizer = optim.AdamW(fusion_model.parameters(), lr=5e-4, weight_decay=1e-4)\n",
    "scheduler = ReduceLROnPlateau(optimizer, mode='min', factor=0.5, patience=2, verbose=True)\n",
    "\n",
    "# Dataloaders\n",
    "train_loader = DataLoader(train_dataset, batch_size=BATCH_SIZE, shuffle=True)\n",
    "val_loader = DataLoader(val_dataset, batch_size=BATCH_SIZE, shuffle=False)\n",
    "test_loader = DataLoader(test_dataset, batch_size=BATCH_SIZE, shuffle=False)\n",
    "\n",
    "# Training config\n",
    "num_epochs = 80\n",
    "best_val_acc = 0.0\n",
    "\n",
    "print(f\"Training on: {'GPU' if torch.cuda.is_available() else 'CPU'}\")\n",
    "print(f\"Train Batches: {len(train_loader)}, Val Batches: {len(val_loader)}, Test Batches: {len(test_loader)}\")\n",
    "\n",
    "for epoch in range(num_epochs):\n",
    "    fusion_model.train()\n",
    "    running_loss, correct, total = 0.0, 0, 0\n",
    "\n",
    "    for audio_inputs, video_inputs, labels in tqdm(train_loader, desc=f\"Epoch {epoch+1}\", leave=False):\n",
    "        audio_inputs, video_inputs, labels = audio_inputs.to(device), video_inputs.to(device), labels.to(device)\n",
    "\n",
    "        optimizer.zero_grad()\n",
    "        logits, audio_embed, video_embed = fusion_model(audio_inputs, video_inputs)\n",
    "\n",
    "        # ── Classification Loss ──\n",
    "        classification_loss = classification_loss_fn(logits, labels)\n",
    "\n",
    "        # ── Contrastive Loss ──\n",
    "        # +1 for matching audio-video pairs\n",
    "        similarity_labels = torch.ones(audio_embed.size(0)).to(device)\n",
    "        contrastive_loss = contrastive_loss_fn(audio_embed, video_embed, similarity_labels)\n",
    "\n",
    "        # ── Total Loss ──\n",
    "        loss = classification_loss + contrastive_loss  # You can weight them if needed\n",
    "\n",
    "        loss.backward()\n",
    "        torch.nn.utils.clip_grad_norm_(fusion_model.parameters(), max_norm=5)\n",
    "        optimizer.step()\n",
    "\n",
    "        running_loss += loss.item()\n",
    "        _, predicted = torch.max(logits, 1)\n",
    "        total += labels.size(0)\n",
    "        correct += (predicted == labels).sum().item()\n",
    "\n",
    "    train_acc = 100 * correct / total\n",
    "    avg_train_loss = running_loss / len(train_loader)\n",
    "\n",
    "\n",
    "    # ─── Validation ─────────────────────────────────────\n",
    "    fusion_model.eval()\n",
    "    val_loss, correct, total = 0.0, 0, 0\n",
    "\n",
    "    with torch.no_grad():\n",
    "        val_progress = tqdm(val_loader, desc=f\"Validation Epoch {epoch+1}\", leave=False)\n",
    "        for audio_inputs, video_inputs, labels in val_progress:\n",
    "            audio_inputs, video_inputs, labels = \\\n",
    "                audio_inputs.to(device), video_inputs.to(device), labels.to(device)\n",
    "\n",
    "            outputs,_,_ = fusion_model(audio_inputs, video_inputs)\n",
    "            loss = classification_loss_fn(outputs, labels)\n",
    "            val_loss += loss.item()\n",
    "\n",
    "            _, predicted = torch.max(outputs, 1)\n",
    "            total += labels.size(0)\n",
    "            correct += (predicted == labels).sum().item()\n",
    "\n",
    "    val_acc = 100 * correct / total\n",
    "    avg_val_loss = val_loss / len(val_loader)\n",
    "    scheduler.step(avg_val_loss)\n",
    "\n",
    "    # ─── Checkpointing ─────────────────────────────────\n",
    "    if val_acc > best_val_acc:\n",
    "        best_val_acc = val_acc\n",
    "        torch.save({\n",
    "            'epoch': epoch,\n",
    "            'model_state_dict': fusion_model.state_dict(),\n",
    "            'optimizer_state_dict': optimizer.state_dict(),\n",
    "            'val_acc': best_val_acc\n",
    "        }, \"C:\\\\Users\\\\Owner\\\\Documents\\\\Best_CrossAttention_FusionModel.pth\")\n",
    "        print(\"✅ Model Saved (New Best)\")\n",
    "\n",
    "    # ─── Logging ────────────────────────────────────────\n",
    "    print(f\" Epoch {epoch+1} Summary:\")\n",
    "    print(f\"   🔹 Train Loss: {avg_train_loss:.4f} | Train Acc: {train_acc:.2f}%\")\n",
    "    print(f\"   🔹 Val Loss: {avg_val_loss:.4f} | Val Acc: {val_acc:.2f}%\")\n",
    "    print(f\"   🔹 Current LR: {optimizer.param_groups[0]['lr']:.6f}\")\n",
    "\n",
    "    torch.cuda.empty_cache()\n",
    "\n",
    "print(\"Training Complete!\")\n",
    "\n",
    "# ─── Test Phase ────────────────────────────────────────\n",
    "fusion_model.eval()\n",
    "test_loss, correct, total = 0.0, 0, 0\n",
    "\n",
    "with torch.no_grad():\n",
    "    test_progress = tqdm(test_loader, desc=\"Testing\", leave=False)\n",
    "    for audio_inputs, video_inputs, labels in test_progress:\n",
    "        audio_inputs, video_inputs, labels = \\\n",
    "            audio_inputs.to(device), video_inputs.to(device), labels.to(device)\n",
    "\n",
    "        outputs = fusion_model(audio_inputs, video_inputs)\n",
    "        loss = criterion(outputs, labels)\n",
    "        test_loss += loss.item()\n",
    "\n",
    "        _, predicted = torch.max(outputs, 1)\n",
    "        total += labels.size(0)\n",
    "        correct += (predicted == labels).sum().item()\n",
    "\n",
    "test_acc = 100 * correct / total\n",
    "avg_test_loss = test_loss / len(test_loader)\n",
    "\n",
    "print(\"\\nFinal Test Results:\")\n",
    "print(f\" Test Loss: {avg_test_loss:.4f} | Test Acc: {test_acc:.2f}%\")\n"
   ]
  },
  {
   "cell_type": "code",
   "execution_count": null,
   "id": "494f40e0-2c47-493c-9343-ec9708553ef8",
   "metadata": {},
   "outputs": [],
   "source": [
    "from sklearn.metrics import (\n",
    "    confusion_matrix,\n",
    "    classification_report,\n",
    "    precision_recall_fscore_support,\n",
    ")\n",
    "import seaborn as sns\n",
    "import matplotlib.pyplot as plt\n",
    "import numpy as np\n",
    "\n",
    "def evaluate_model(dataloader, dataset_name=\"Validation\"):\n",
    "    all_preds = []\n",
    "    all_labels = []\n",
    "    \n",
    "    fusion_model.eval()\n",
    "    with torch.no_grad():\n",
    "        for audio_inputs, video_inputs, labels in dataloader:\n",
    "            audio_inputs = audio_inputs.to(device)\n",
    "            video_inputs = video_inputs.to(device)\n",
    "            labels = labels.to(device)\n",
    "\n",
    "            logits, _, _ = fusion_model(audio_inputs, video_inputs)\n",
    "            _, predicted = torch.max(logits, dim=1)\n",
    "\n",
    "            all_preds.extend(predicted.cpu().numpy())\n",
    "            all_labels.extend(labels.cpu().numpy())\n",
    "\n",
    "    # ─── Metrics ───────────────────────────────────────\n",
    "    cm = confusion_matrix(all_labels, all_preds)\n",
    "    report = classification_report(all_labels, all_preds, digits=4)\n",
    "\n",
    "    precision_micro, recall_micro, f1_micro, _ = precision_recall_fscore_support(\n",
    "        all_labels, all_preds, average='micro', zero_division=0\n",
    "    )\n",
    "    precision_macro, recall_macro, f1_macro, _ = precision_recall_fscore_support(\n",
    "        all_labels, all_preds, average='macro', zero_division=0\n",
    "    )\n",
    "\n",
    "    print(f\"\\n Classification Report ({dataset_name} Set):\")\n",
    "    print(report)\n",
    "    print(\"🔹 Micro Avg  - Precision: {:.4f} | Recall: {:.4f} | F1 Score: {:.4f}\".format(\n",
    "        precision_micro, recall_micro, f1_micro))\n",
    "    print(\"🔹 Macro Avg  - Precision: {:.4f} | Recall: {:.4f} | F1 Score: {:.4f}\".format(\n",
    "        precision_macro, recall_macro, f1_macro))\n",
    "\n",
    "    # ─── Confusion Matrix Plot ─────────────────────────\n",
    "    plt.figure(figsize=(8, 6))\n",
    "    sns.heatmap(cm, annot=True, fmt=\"d\", cmap=\"Blues\", xticklabels=range(6), yticklabels=range(6))\n",
    "    plt.xlabel(\"Predicted Label\")\n",
    "    plt.ylabel(\"True Label\")\n",
    "    plt.title(f\"Confusion Matrix ({dataset_name} Set)\")\n",
    "    plt.tight_layout()\n",
    "    plt.show()\n",
    "\n",
    "# Evaluate on validation set\n",
    "evaluate_model(val_loader, \"Validation\")\n",
    "\n",
    "# Evaluate on test set\n",
    "evaluate_model(test_loader, \"Test\")\n"
   ]
  },
  {
   "cell_type": "code",
   "execution_count": 11,
   "id": "2c6bbbac-1acf-4c3c-917d-354334930146",
   "metadata": {},
   "outputs": [],
   "source": [
    "from sklearn.metrics import (\n",
    "    confusion_matrix, classification_report,\n",
    "    precision_recall_fscore_support\n",
    ")\n",
    "from scipy.stats import pearsonr, spearmanr\n",
    "import seaborn as sns\n",
    "import matplotlib.pyplot as plt\n",
    "import torch.nn.functional as F\n",
    "import numpy as np\n",
    "\n",
    "def compute_cosine_similarity(audio_embeddings, video_embeddings):\n",
    "    audio_norm = F.normalize(audio_embeddings, p=2, dim=1)\n",
    "    video_norm = F.normalize(video_embeddings, p=2, dim=1)\n",
    "    cosine_sim = torch.sum(audio_norm * video_norm, dim=1)\n",
    "    return cosine_sim.mean().item()\n",
    "\n",
    "def compute_average_correlation(audio_embeds, video_embeds, method=\"pearson\"):\n",
    "    audio_np = audio_embeds.numpy()\n",
    "    video_np = video_embeds.numpy()\n",
    "    correlations = []\n",
    "\n",
    "    for i in range(audio_np.shape[1]):\n",
    "        try:\n",
    "            if method == \"pearson\":\n",
    "                corr, _ = pearsonr(audio_np[:, i], video_np[:, i])\n",
    "            else:\n",
    "                corr, _ = spearmanr(audio_np[:, i], video_np[:, i])\n",
    "            correlations.append(corr)\n",
    "        except Exception:\n",
    "            continue  # handle nan or constant vectors\n",
    "\n",
    "    return np.nanmean(correlations)\n",
    "\n",
    "def evaluate_model(dataloader, dataset_name=\"Validation\"):\n",
    "    all_preds, all_labels = [], []\n",
    "    all_audio_embeds, all_video_embeds = [], []\n",
    "\n",
    "    fusion_model.eval()\n",
    "    with torch.no_grad():\n",
    "        for audio_inputs, video_inputs, labels in dataloader:\n",
    "            audio_inputs = audio_inputs.to(device)\n",
    "            video_inputs = video_inputs.to(device)\n",
    "            labels = labels.to(device)\n",
    "\n",
    "            logits, audio_embed, video_embed = fusion_model(audio_inputs, video_inputs)\n",
    "            _, predicted = torch.max(logits, dim=1)\n",
    "\n",
    "            all_preds.extend(predicted.cpu().numpy())\n",
    "            all_labels.extend(labels.cpu().numpy())\n",
    "\n",
    "            all_audio_embeds.append(audio_embed.cpu())\n",
    "            all_video_embeds.append(video_embed.cpu())\n",
    "\n",
    "    # ─── Stack Embeddings ─────────────────────────────\n",
    "    audio_embeds = torch.cat(all_audio_embeds, dim=0)\n",
    "    video_embeds = torch.cat(all_video_embeds, dim=0)\n",
    "\n",
    "    # ─── Metrics ─────────────────────────────────────\n",
    "    cm = confusion_matrix(all_labels, all_preds)\n",
    "    report = classification_report(all_labels, all_preds, digits=4)\n",
    "    precision_micro, recall_micro, f1_micro, _ = precision_recall_fscore_support(\n",
    "        all_labels, all_preds, average='micro', zero_division=0)\n",
    "    precision_macro, recall_macro, f1_macro, _ = precision_recall_fscore_support(\n",
    "        all_labels, all_preds, average='macro', zero_division=0)\n",
    "\n",
    "    # ─── Alignment Scores ────────────────────────────\n",
    "    cosine_sim = compute_cosine_similarity(audio_embeds, video_embeds)\n",
    "    pearson_corr = compute_average_correlation(audio_embeds, video_embeds, method=\"pearson\")\n",
    "    spearman_corr = compute_average_correlation(audio_embeds, video_embeds, method=\"spearman\")\n",
    "\n",
    "    # ─── Output ──────────────────────────────────────\n",
    "    print(f\"\\n Classification Report ({dataset_name} Set):\")\n",
    "    print(report)\n",
    "    print(\"🔹 Micro Avg  - Precision: {:.4f} | Recall: {:.4f} | F1 Score: {:.4f}\".format(\n",
    "        precision_micro, recall_micro, f1_micro))\n",
    "    print(\"🔹 Macro Avg  - Precision: {:.4f} | Recall: {:.4f} | F1 Score: {:.4f}\".format(\n",
    "        precision_macro, recall_macro, f1_macro))\n",
    "    \n",
    "    print(f\"\\n Alignment Between Modalities ({dataset_name} Set):\")\n",
    "    print(f\"    • Avg Cosine Similarity: {cosine_sim:.4f}\")\n",
    "    print(f\"    • Avg Pearson Correlation: {pearson_corr:.4f}\")\n",
    "    print(f\"    • Avg Spearman Correlation: {spearman_corr:.4f}\")\n",
    "\n",
    "    # ─── Confusion Matrix Plot ───────────────────────\n",
    "    plt.figure(figsize=(8, 6))\n",
    "    sns.heatmap(cm, annot=True, fmt=\"d\", cmap=\"Blues\", xticklabels=range(6), yticklabels=range(6))\n",
    "    plt.xlabel(\"Predicted Label\")\n",
    "    plt.ylabel(\"True Label\")\n",
    "    plt.title(f\"Confusion Matrix ({dataset_name} Set)\")\n",
    "    plt.tight_layout()\n",
    "    plt.show()\n"
   ]
  },
  {
   "cell_type": "code",
   "execution_count": 12,
   "id": "131230dc-67c1-4480-addb-1d7967c0e0e8",
   "metadata": {},
   "outputs": [
    {
     "name": "stdout",
     "output_type": "stream",
     "text": [
      "\n",
      " Classification Report (Validation Set):\n",
      "              precision    recall  f1-score   support\n",
      "\n",
      "           0     0.8503    0.8503    0.8503       167\n",
      "           1     0.8412    0.8882    0.8640       161\n",
      "           2     0.7465    0.6310    0.6839       168\n",
      "           3     0.9620    0.9560    0.9590       159\n",
      "           4     0.8636    0.7862    0.8231       145\n",
      "           5     0.6034    0.7297    0.6606       148\n",
      "\n",
      "    accuracy                         0.8070       948\n",
      "   macro avg     0.8112    0.8069    0.8068       948\n",
      "weighted avg     0.8126    0.8070    0.8076       948\n",
      "\n",
      "🔹 Micro Avg  - Precision: 0.8070 | Recall: 0.8070 | F1 Score: 0.8070\n",
      "🔹 Macro Avg  - Precision: 0.8112 | Recall: 0.8069 | F1 Score: 0.8068\n",
      "\n",
      " Alignment Between Modalities (Validation Set):\n",
      "    • Avg Cosine Similarity: 1.0000\n",
      "    • Avg Pearson Correlation: 0.9748\n",
      "    • Avg Spearman Correlation: 0.9712\n"
     ]
    },
    {
     "data": {
      "image/png": "[encoded data removed]",
      "text/plain": [
       "<Figure size 800x600 with 2 Axes>"
      ]
     },
     "metadata": {},
     "output_type": "display_data"
    },
    {
     "name": "stdout",
     "output_type": "stream",
     "text": [
      "\n",
      " Classification Report (Test Set):\n",
      "              precision    recall  f1-score   support\n",
      "\n",
      "           0     0.8696    0.8333    0.8511        24\n",
      "           1     0.8800    0.7333    0.8000        30\n",
      "           2     0.7500    0.8182    0.7826        22\n",
      "           3     0.9697    1.0000    0.9846        32\n",
      "           4     0.8000    0.6667    0.7273        18\n",
      "           5     0.7500    0.8571    0.8000        42\n",
      "\n",
      "    accuracy                         0.8333       168\n",
      "   macro avg     0.8365    0.8181    0.8243       168\n",
      "weighted avg     0.8375    0.8333    0.8324       168\n",
      "\n",
      "🔹 Micro Avg  - Precision: 0.8333 | Recall: 0.8333 | F1 Score: 0.8333\n",
      "🔹 Macro Avg  - Precision: 0.8365 | Recall: 0.8181 | F1 Score: 0.8243\n",
      "\n",
      " Alignment Between Modalities (Test Set):\n",
      "    • Avg Cosine Similarity: 1.0000\n",
      "    • Avg Pearson Correlation: 0.9757\n",
      "    • Avg Spearman Correlation: 0.9697\n"
     ]
    },
    {
     "data": {
      "image/png": "[encoded data removed]",
      "text/plain": [
       "<Figure size 800x600 with 2 Axes>"
      ]
     },
     "metadata": {},
     "output_type": "display_data"
    }
   ],
   "source": [
    "evaluate_model(val_loader, \"Validation\")\n",
    "evaluate_model(test_loader, \"Test\")\n"
   ]
  },
  {
   "cell_type": "code",
   "execution_count": 13,
   "id": "5b273922-7b3d-4f6e-8aab-87e05f42f066",
   "metadata": {},
   "outputs": [
    {
     "name": "stdout",
     "output_type": "stream",
     "text": [
      "\n",
      " Before Cross-Attention Alignment Scores:\n",
      "   • Cosine Similarity:       0.0798\n",
      "   • Pearson Correlation:     -0.0096\n",
      "   • Spearman Correlation:    -0.0122\n",
      "\n",
      " After Cross-Attention Alignment Scores:\n",
      "   • Cosine Similarity:       1.0000\n",
      "   • Pearson Correlation:     0.9757\n",
      "   • Spearman Correlation:    0.9697\n"
     ]
    }
   ],
   "source": [
    "def compute_alignment_metrics(audio_embed, video_embed, label=\"\"):\n",
    "    audio_norm = F.normalize(audio_embed, p=2, dim=1)\n",
    "    video_norm = F.normalize(video_embed, p=2, dim=1)\n",
    "    cosine_sim = torch.sum(audio_norm * video_norm, dim=1).mean().item()\n",
    "\n",
    "    def avg_corr(a, v, method):\n",
    "        a_np, v_np = a.numpy(), v.numpy()\n",
    "        corrs = []\n",
    "        for i in range(a_np.shape[1]):\n",
    "            try:\n",
    "                if method == \"pearson\":\n",
    "                    corr, _ = pearsonr(a_np[:, i], v_np[:, i])\n",
    "                else:\n",
    "                    corr, _ = spearmanr(a_np[:, i], v_np[:, i])\n",
    "                corrs.append(corr)\n",
    "            except:\n",
    "                continue\n",
    "        return np.nanmean(corrs)\n",
    "\n",
    "    pearson = avg_corr(audio_embed.cpu(), video_embed.cpu(), method=\"pearson\")\n",
    "    spearman = avg_corr(audio_embed.cpu(), video_embed.cpu(), method=\"spearman\")\n",
    "\n",
    "    print(f\"\\n {label} Alignment Scores:\")\n",
    "    print(f\"   • Cosine Similarity:       {cosine_sim:.4f}\")\n",
    "    print(f\"   • Pearson Correlation:     {pearson:.4f}\")\n",
    "    print(f\"   • Spearman Correlation:    {spearman:.4f}\")\n",
    "\n",
    "def evaluate_alignment_on_test(dataloader):\n",
    "    fusion_model.eval()\n",
    "    all_audio_raw, all_video_raw = [], []\n",
    "    all_audio_aligned, all_video_aligned = [], []\n",
    "\n",
    "    with torch.no_grad():\n",
    "        for audio_inputs, video_inputs, _ in dataloader:\n",
    "            audio_inputs = audio_inputs.to(device)\n",
    "            video_inputs = video_inputs.to(device)\n",
    "\n",
    "            # Unaligned embeddings from sub-models\n",
    "            audio_embed_raw = fusion_model.audio_model(audio_inputs)\n",
    "            video_embed_raw = fusion_model.video_model(video_inputs)\n",
    "\n",
    "            all_audio_raw.append(audio_embed_raw.cpu())\n",
    "            all_video_raw.append(video_embed_raw.cpu())\n",
    "\n",
    "            # Pass through cross-attention layers (alignment)\n",
    "            audio_embed = audio_embed_raw\n",
    "            video_embed = video_embed_raw\n",
    "            for layer in fusion_model.cross_attn_layers:\n",
    "                audio_embed, video_embed = layer(audio_embed, video_embed)\n",
    "\n",
    "            all_audio_aligned.append(audio_embed.cpu())\n",
    "            all_video_aligned.append(video_embed.cpu())\n",
    "\n",
    "    # Concatenate all batches\n",
    "    audio_raw = torch.cat(all_audio_raw, dim=0)\n",
    "    video_raw = torch.cat(all_video_raw, dim=0)\n",
    "    audio_aligned = torch.cat(all_audio_aligned, dim=0)\n",
    "    video_aligned = torch.cat(all_video_aligned, dim=0)\n",
    "\n",
    "    # Compute alignment scores\n",
    "    compute_alignment_metrics(audio_raw, video_raw, label=\"Before Cross-Attention\")\n",
    "    compute_alignment_metrics(audio_aligned, video_aligned, label=\"After Cross-Attention\")\n",
    "\n",
    "# Run it\n",
    "evaluate_alignment_on_test(test_loader)\n"
   ]
  },
  {
   "cell_type": "code",
   "execution_count": null,
   "id": "33bd94c7-f3c7-4b03-ab17-b2c2e35eb1c5",
   "metadata": {},
   "outputs": [],
   "source": []
  }
 ],
 "metadata": {
  "kernelspec": {
   "display_name": "Python 3 (ipykernel)",
   "language": "python",
   "name": "python3"
  },
  "language_info": {
   "codemirror_mode": {
    "name": "ipython",
    "version": 3
   },
   "file_extension": ".py",
   "mimetype": "text/x-python",
   "name": "python",
   "nbconvert_exporter": "python",
   "pygments_lexer": "ipython3",
   "version": "3.9.7"
  }
 },
 "nbformat": 4,
 "nbformat_minor": 5
}
